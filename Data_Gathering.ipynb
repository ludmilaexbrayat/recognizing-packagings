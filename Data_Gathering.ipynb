{
  "nbformat": 4,
  "nbformat_minor": 0,
  "metadata": {
    "colab": {
      "name": "Untitled0.ipynb",
      "provenance": [],
      "collapsed_sections": [],
      "toc_visible": true,
      "include_colab_link": true
    },
    "kernelspec": {
      "name": "python3",
      "display_name": "Python 3"
    }
  },
  "cells": [
    {
      "cell_type": "markdown",
      "metadata": {
        "id": "view-in-github",
        "colab_type": "text"
      },
      "source": [
        "<a href=\"https://colab.research.google.com/github/ludmilaexbrayat/recognizing-packagings/blob/master/Data_Gathering.ipynb\" target=\"_parent\"><img src=\"https://colab.research.google.com/assets/colab-badge.svg\" alt=\"Open In Colab\"/></a>"
      ]
    },
    {
      "cell_type": "markdown",
      "metadata": {
        "id": "GbnJM9gjM7ap",
        "colab_type": "text"
      },
      "source": [
        "###Google collab setp\n"
      ]
    },
    {
      "cell_type": "code",
      "metadata": {
        "id": "d7hX8KsnNFPg",
        "colab_type": "code",
        "colab": {}
      },
      "source": [
        "!pip install -U -q PyDrive\n",
        "import pandas as pd\n",
        "from pydrive.auth import GoogleAuth\n",
        "from pydrive.drive import GoogleDrive\n",
        "from google.colab import auth\n",
        "from oauth2client.client import GoogleCredentials\n",
        "# Authenticate and create the PyDrive client.\n",
        "auth.authenticate_user()\n",
        "gauth = GoogleAuth()\n",
        "gauth.credentials = GoogleCredentials.get_application_default()\n",
        "drive = GoogleDrive(gauth)"
      ],
      "execution_count": 0,
      "outputs": []
    },
    {
      "cell_type": "markdown",
      "metadata": {
        "id": "bTjHs6cuNZsD",
        "colab_type": "text"
      },
      "source": [
        "getting the csv \n"
      ]
    },
    {
      "cell_type": "code",
      "metadata": {
        "id": "0qnVDn_HNO6S",
        "colab_type": "code",
        "colab": {}
      },
      "source": [
        "\n",
        "# csv file from open food fact is available at : https://fr.openfoodfacts.org/data\n",
        "# strcture of the dataset is detailed here : https://static.openfoodfacts.org/data/data-fields.txt\n",
        "\n",
        "link_open_food_fact = 'https://drive.google.com/open?id=1vt45SNlhYjQC_uNETUqPwR2jK5o3vW04'\n",
        "\n",
        "fluff, id_open_food_fact = link_open_food_fact.split('=')\n",
        "\n",
        "# dictionary below is a correspondance between the main label we want to predict and all the numerous labels from open foodfact\n",
        "# appearing at least 30 in the dataset. it has been manually labelled by us\n",
        "\n",
        "link_dico = 'https://drive.google.com/open?id=1QPJWoGtDP6H-4wV3OJHXiDP7r2i6wP_6'\n",
        "\n",
        "fluff, id_dico = link_dico.split('=')\n",
        "\n",
        "\n"
      ],
      "execution_count": 0,
      "outputs": []
    },
    {
      "cell_type": "code",
      "metadata": {
        "id": "skgPA9EzOkd9",
        "colab_type": "code",
        "colab": {}
      },
      "source": [
        "downloaded = drive.CreateFile({'id':id_open_food_fact}) \n",
        "downloaded.GetContentFile('en.openfoodfacts.org.products.csv')\n",
        "\n",
        "downloaded = drive.CreateFile({'id':id_dico}) \n",
        "downloaded.GetContentFile('Voc_dico.xlsx')"
      ],
      "execution_count": 0,
      "outputs": []
    },
    {
      "cell_type": "code",
      "metadata": {
        "id": "WSSJjRADQtea",
        "colab_type": "code",
        "colab": {}
      },
      "source": [
        "#data = pd.read_csv('small_test.csv', delimiter=',', encoding='UTF-8',index_col=0)\n",
        "data = pd.read_csv('en.openfoodfacts.org.products.csv', delimiter='\\t', encoding='UTF-8')\n",
        "dico = pd.read_excel('Voc_dico.xlsx')"
      ],
      "execution_count": 0,
      "outputs": []
    },
    {
      "cell_type": "code",
      "metadata": {
        "id": "w5O9rpvSRHPn",
        "colab_type": "code",
        "colab": {
          "base_uri": "https://localhost:8080/",
          "height": 195
        },
        "outputId": "f909a22a-b4b8-4315-c41d-493abb75d356"
      },
      "source": [
        "dico.head()"
      ],
      "execution_count": 5,
      "outputs": [
        {
          "output_type": "execute_result",
          "data": {
            "text/html": [
              "<div>\n",
              "<style scoped>\n",
              "    .dataframe tbody tr th:only-of-type {\n",
              "        vertical-align: middle;\n",
              "    }\n",
              "\n",
              "    .dataframe tbody tr th {\n",
              "        vertical-align: top;\n",
              "    }\n",
              "\n",
              "    .dataframe thead th {\n",
              "        text-align: right;\n",
              "    }\n",
              "</style>\n",
              "<table border=\"1\" class=\"dataframe\">\n",
              "  <thead>\n",
              "    <tr style=\"text-align: right;\">\n",
              "      <th></th>\n",
              "      <th>Label</th>\n",
              "      <th>Col</th>\n",
              "      <th>Col1</th>\n",
              "    </tr>\n",
              "  </thead>\n",
              "  <tbody>\n",
              "    <tr>\n",
              "      <th>0</th>\n",
              "      <td>plastique</td>\n",
              "      <td>Plastique</td>\n",
              "      <td>NaN</td>\n",
              "    </tr>\n",
              "    <tr>\n",
              "      <th>1</th>\n",
              "      <td>plastiktute</td>\n",
              "      <td>Plastique</td>\n",
              "      <td>NaN</td>\n",
              "    </tr>\n",
              "    <tr>\n",
              "      <th>2</th>\n",
              "      <td>2</td>\n",
              "      <td>NaN</td>\n",
              "      <td>NaN</td>\n",
              "    </tr>\n",
              "    <tr>\n",
              "      <th>3</th>\n",
              "      <td>4-pe-ld</td>\n",
              "      <td>NaN</td>\n",
              "      <td>NaN</td>\n",
              "    </tr>\n",
              "    <tr>\n",
              "      <th>4</th>\n",
              "      <td>fr-bouteille-verre</td>\n",
              "      <td>Verre</td>\n",
              "      <td>Bouteille</td>\n",
              "    </tr>\n",
              "  </tbody>\n",
              "</table>\n",
              "</div>"
            ],
            "text/plain": [
              "                Label        Col       Col1\n",
              "0           plastique  Plastique        NaN\n",
              "1         plastiktute  Plastique        NaN\n",
              "2                   2        NaN        NaN\n",
              "3             4-pe-ld        NaN        NaN\n",
              "4  fr-bouteille-verre      Verre  Bouteille"
            ]
          },
          "metadata": {
            "tags": []
          },
          "execution_count": 5
        }
      ]
    },
    {
      "cell_type": "code",
      "metadata": {
        "id": "p9575HdgRJQ-",
        "colab_type": "code",
        "colab": {
          "base_uri": "https://localhost:8080/",
          "height": 256
        },
        "outputId": "cd6ebb59-8d8e-48d5-a89d-09ab8a0c0c5f"
      },
      "source": [
        "data.head(2)"
      ],
      "execution_count": 6,
      "outputs": [
        {
          "output_type": "execute_result",
          "data": {
            "text/html": [
              "<div>\n",
              "<style scoped>\n",
              "    .dataframe tbody tr th:only-of-type {\n",
              "        vertical-align: middle;\n",
              "    }\n",
              "\n",
              "    .dataframe tbody tr th {\n",
              "        vertical-align: top;\n",
              "    }\n",
              "\n",
              "    .dataframe thead th {\n",
              "        text-align: right;\n",
              "    }\n",
              "</style>\n",
              "<table border=\"1\" class=\"dataframe\">\n",
              "  <thead>\n",
              "    <tr style=\"text-align: right;\">\n",
              "      <th></th>\n",
              "      <th>code</th>\n",
              "      <th>url</th>\n",
              "      <th>creator</th>\n",
              "      <th>created_t</th>\n",
              "      <th>created_datetime</th>\n",
              "      <th>last_modified_t</th>\n",
              "      <th>last_modified_datetime</th>\n",
              "      <th>product_name</th>\n",
              "      <th>generic_name</th>\n",
              "      <th>quantity</th>\n",
              "      <th>packaging</th>\n",
              "      <th>packaging_tags</th>\n",
              "      <th>brands</th>\n",
              "      <th>brands_tags</th>\n",
              "      <th>categories</th>\n",
              "      <th>categories_tags</th>\n",
              "      <th>categories_en</th>\n",
              "      <th>origins</th>\n",
              "      <th>origins_tags</th>\n",
              "      <th>manufacturing_places</th>\n",
              "      <th>manufacturing_places_tags</th>\n",
              "      <th>labels</th>\n",
              "      <th>labels_tags</th>\n",
              "      <th>labels_en</th>\n",
              "      <th>emb_codes</th>\n",
              "      <th>emb_codes_tags</th>\n",
              "      <th>first_packaging_code_geo</th>\n",
              "      <th>cities</th>\n",
              "      <th>cities_tags</th>\n",
              "      <th>purchase_places</th>\n",
              "      <th>stores</th>\n",
              "      <th>countries</th>\n",
              "      <th>countries_tags</th>\n",
              "      <th>countries_en</th>\n",
              "      <th>ingredients_text</th>\n",
              "      <th>allergens</th>\n",
              "      <th>allergens_en</th>\n",
              "      <th>traces</th>\n",
              "      <th>traces_tags</th>\n",
              "      <th>traces_en</th>\n",
              "      <th>...</th>\n",
              "      <th>folates_100g</th>\n",
              "      <th>vitamin-b12_100g</th>\n",
              "      <th>biotin_100g</th>\n",
              "      <th>pantothenic-acid_100g</th>\n",
              "      <th>silica_100g</th>\n",
              "      <th>bicarbonate_100g</th>\n",
              "      <th>potassium_100g</th>\n",
              "      <th>chloride_100g</th>\n",
              "      <th>calcium_100g</th>\n",
              "      <th>phosphorus_100g</th>\n",
              "      <th>iron_100g</th>\n",
              "      <th>magnesium_100g</th>\n",
              "      <th>zinc_100g</th>\n",
              "      <th>copper_100g</th>\n",
              "      <th>manganese_100g</th>\n",
              "      <th>fluoride_100g</th>\n",
              "      <th>selenium_100g</th>\n",
              "      <th>chromium_100g</th>\n",
              "      <th>molybdenum_100g</th>\n",
              "      <th>iodine_100g</th>\n",
              "      <th>caffeine_100g</th>\n",
              "      <th>taurine_100g</th>\n",
              "      <th>ph_100g</th>\n",
              "      <th>fruits-vegetables-nuts_100g</th>\n",
              "      <th>fruits-vegetables-nuts-dried_100g</th>\n",
              "      <th>fruits-vegetables-nuts-estimate_100g</th>\n",
              "      <th>collagen-meat-protein-ratio_100g</th>\n",
              "      <th>cocoa_100g</th>\n",
              "      <th>chlorophyl_100g</th>\n",
              "      <th>carbon-footprint_100g</th>\n",
              "      <th>carbon-footprint-from-meat-or-fish_100g</th>\n",
              "      <th>nutrition-score-fr_100g</th>\n",
              "      <th>nutrition-score-uk_100g</th>\n",
              "      <th>glycemic-index_100g</th>\n",
              "      <th>water-hardness_100g</th>\n",
              "      <th>choline_100g</th>\n",
              "      <th>phylloquinone_100g</th>\n",
              "      <th>beta-glucan_100g</th>\n",
              "      <th>inositol_100g</th>\n",
              "      <th>carnitine_100g</th>\n",
              "    </tr>\n",
              "  </thead>\n",
              "  <tbody>\n",
              "    <tr>\n",
              "      <th>0</th>\n",
              "      <td>17</td>\n",
              "      <td>http://world-en.openfoodfacts.org/product/0000...</td>\n",
              "      <td>kiliweb</td>\n",
              "      <td>1529059080</td>\n",
              "      <td>2018-06-15T10:38:00Z</td>\n",
              "      <td>1561463718</td>\n",
              "      <td>2019-06-25T11:55:18Z</td>\n",
              "      <td>Vitória crackers</td>\n",
              "      <td>NaN</td>\n",
              "      <td>NaN</td>\n",
              "      <td>NaN</td>\n",
              "      <td>NaN</td>\n",
              "      <td>NaN</td>\n",
              "      <td>NaN</td>\n",
              "      <td>NaN</td>\n",
              "      <td>NaN</td>\n",
              "      <td>NaN</td>\n",
              "      <td>NaN</td>\n",
              "      <td>NaN</td>\n",
              "      <td>NaN</td>\n",
              "      <td>NaN</td>\n",
              "      <td>NaN</td>\n",
              "      <td>NaN</td>\n",
              "      <td>NaN</td>\n",
              "      <td>NaN</td>\n",
              "      <td>NaN</td>\n",
              "      <td>NaN</td>\n",
              "      <td>NaN</td>\n",
              "      <td>NaN</td>\n",
              "      <td>NaN</td>\n",
              "      <td>NaN</td>\n",
              "      <td>France</td>\n",
              "      <td>en:france</td>\n",
              "      <td>France</td>\n",
              "      <td>NaN</td>\n",
              "      <td>NaN</td>\n",
              "      <td>NaN</td>\n",
              "      <td>NaN</td>\n",
              "      <td>NaN</td>\n",
              "      <td>NaN</td>\n",
              "      <td>...</td>\n",
              "      <td>NaN</td>\n",
              "      <td>NaN</td>\n",
              "      <td>NaN</td>\n",
              "      <td>NaN</td>\n",
              "      <td>NaN</td>\n",
              "      <td>NaN</td>\n",
              "      <td>NaN</td>\n",
              "      <td>NaN</td>\n",
              "      <td>NaN</td>\n",
              "      <td>NaN</td>\n",
              "      <td>NaN</td>\n",
              "      <td>NaN</td>\n",
              "      <td>NaN</td>\n",
              "      <td>NaN</td>\n",
              "      <td>NaN</td>\n",
              "      <td>NaN</td>\n",
              "      <td>NaN</td>\n",
              "      <td>NaN</td>\n",
              "      <td>NaN</td>\n",
              "      <td>NaN</td>\n",
              "      <td>NaN</td>\n",
              "      <td>NaN</td>\n",
              "      <td>NaN</td>\n",
              "      <td>NaN</td>\n",
              "      <td>NaN</td>\n",
              "      <td>NaN</td>\n",
              "      <td>NaN</td>\n",
              "      <td>NaN</td>\n",
              "      <td>NaN</td>\n",
              "      <td>NaN</td>\n",
              "      <td>NaN</td>\n",
              "      <td>NaN</td>\n",
              "      <td>NaN</td>\n",
              "      <td>NaN</td>\n",
              "      <td>NaN</td>\n",
              "      <td>NaN</td>\n",
              "      <td>NaN</td>\n",
              "      <td>NaN</td>\n",
              "      <td>NaN</td>\n",
              "      <td>NaN</td>\n",
              "    </tr>\n",
              "    <tr>\n",
              "      <th>1</th>\n",
              "      <td>31</td>\n",
              "      <td>http://world-en.openfoodfacts.org/product/0000...</td>\n",
              "      <td>isagoofy</td>\n",
              "      <td>1539464774</td>\n",
              "      <td>2018-10-13T21:06:14Z</td>\n",
              "      <td>1539464817</td>\n",
              "      <td>2018-10-13T21:06:57Z</td>\n",
              "      <td>Cacao</td>\n",
              "      <td>NaN</td>\n",
              "      <td>130 g</td>\n",
              "      <td>NaN</td>\n",
              "      <td>NaN</td>\n",
              "      <td>NaN</td>\n",
              "      <td>NaN</td>\n",
              "      <td>NaN</td>\n",
              "      <td>NaN</td>\n",
              "      <td>NaN</td>\n",
              "      <td>NaN</td>\n",
              "      <td>NaN</td>\n",
              "      <td>NaN</td>\n",
              "      <td>NaN</td>\n",
              "      <td>NaN</td>\n",
              "      <td>NaN</td>\n",
              "      <td>NaN</td>\n",
              "      <td>NaN</td>\n",
              "      <td>NaN</td>\n",
              "      <td>NaN</td>\n",
              "      <td>NaN</td>\n",
              "      <td>NaN</td>\n",
              "      <td>NaN</td>\n",
              "      <td>NaN</td>\n",
              "      <td>France</td>\n",
              "      <td>en:france</td>\n",
              "      <td>France</td>\n",
              "      <td>NaN</td>\n",
              "      <td>NaN</td>\n",
              "      <td>NaN</td>\n",
              "      <td>NaN</td>\n",
              "      <td>NaN</td>\n",
              "      <td>NaN</td>\n",
              "      <td>...</td>\n",
              "      <td>NaN</td>\n",
              "      <td>NaN</td>\n",
              "      <td>NaN</td>\n",
              "      <td>NaN</td>\n",
              "      <td>NaN</td>\n",
              "      <td>NaN</td>\n",
              "      <td>NaN</td>\n",
              "      <td>NaN</td>\n",
              "      <td>NaN</td>\n",
              "      <td>NaN</td>\n",
              "      <td>NaN</td>\n",
              "      <td>NaN</td>\n",
              "      <td>NaN</td>\n",
              "      <td>NaN</td>\n",
              "      <td>NaN</td>\n",
              "      <td>NaN</td>\n",
              "      <td>NaN</td>\n",
              "      <td>NaN</td>\n",
              "      <td>NaN</td>\n",
              "      <td>NaN</td>\n",
              "      <td>NaN</td>\n",
              "      <td>NaN</td>\n",
              "      <td>NaN</td>\n",
              "      <td>NaN</td>\n",
              "      <td>NaN</td>\n",
              "      <td>NaN</td>\n",
              "      <td>NaN</td>\n",
              "      <td>NaN</td>\n",
              "      <td>NaN</td>\n",
              "      <td>NaN</td>\n",
              "      <td>NaN</td>\n",
              "      <td>NaN</td>\n",
              "      <td>NaN</td>\n",
              "      <td>NaN</td>\n",
              "      <td>NaN</td>\n",
              "      <td>NaN</td>\n",
              "      <td>NaN</td>\n",
              "      <td>NaN</td>\n",
              "      <td>NaN</td>\n",
              "      <td>NaN</td>\n",
              "    </tr>\n",
              "  </tbody>\n",
              "</table>\n",
              "<p>2 rows × 175 columns</p>\n",
              "</div>"
            ],
            "text/plain": [
              "   code  ... carnitine_100g\n",
              "0    17  ...            NaN\n",
              "1    31  ...            NaN\n",
              "\n",
              "[2 rows x 175 columns]"
            ]
          },
          "metadata": {
            "tags": []
          },
          "execution_count": 6
        }
      ]
    },
    {
      "cell_type": "markdown",
      "metadata": {
        "id": "xYCbqf_WSSrh",
        "colab_type": "text"
      },
      "source": [
        "### fonction\n"
      ]
    },
    {
      "cell_type": "code",
      "metadata": {
        "id": "SwDYe9-zSU6W",
        "colab_type": "code",
        "colab": {}
      },
      "source": [
        "import urllib.request\n",
        "import pickle\n",
        "import numpy as np\n",
        "\n",
        "def image_dowloading(data,data_img='/content/data_img/'):\n",
        "    \"\"\"\n",
        "    Downloading of the images based on the openfoodfact csv file\n",
        "    \n",
        "    Parameters\n",
        "    ----------\n",
        "    data : dataframe pandas\n",
        "        openfoofact csv file converted into pandas dataframe   \n",
        "        \n",
        "    path_img : string\n",
        "        path of the folder where the images are going to be downloaded\n",
        "    \"\"\" \n",
        "    if not os.path.exists(data_img):\n",
        "        %mkdir data_img\n",
        "        %cd data_img\n",
        "    else:\n",
        "        %cd data_img\n",
        "        \n",
        "    \n",
        "        \n",
        "    data = data[['code','image_url','packaging_tags']].dropna(subset=['packaging_tags','image_url'])\n",
        "    data.drop_duplicates(inplace=True,subset=['code'])\n",
        "    data.reset_index(inplace=True)\n",
        "\n",
        "    id_downloaded = []\n",
        "    count_error = 0\n",
        "\n",
        "    for i in range(0,len(data)):\n",
        "        try:\n",
        "            urllib.request.urlretrieve(data['image_url'][i] , str(data['code'][i])+\".jpg\")\n",
        "            id_downloaded.append(data['code'][i])\n",
        "        except Exception as e:\n",
        "            count_error = count_error + 1\n",
        "    print(str(count_error)+ ' images couldnt be downloaded')\n",
        "    print(str(len(id_downloaded))+ ' images has been downloaded')\n",
        "    np.save('id_downloaded.npy',id_downloaded)\n",
        "    "
      ],
      "execution_count": 0,
      "outputs": []
    },
    {
      "cell_type": "code",
      "metadata": {
        "id": "IlgsbLLmSaYa",
        "colab_type": "code",
        "colab": {}
      },
      "source": [
        "import pandas as pd \n",
        "def y_target_creation(data,df_dic):\n",
        "    \"\"\"\n",
        "    Creation of y_target dataframe based on the openfoodfact csv file\n",
        "    \n",
        "    Parameters\n",
        "    ----------\n",
        "    data : dataframe pandas\n",
        "        openfoofact csv file converted into pandas dataframe   \n",
        "        \n",
        "    df_dic : dataframe pandas\n",
        "        manually completed dictionary of correspondance between major labels and labels in the original\n",
        "        openfoodfact csv files ( occuring at least 30 times )\n",
        "    \"\"\"    \n",
        "    data = data[~data['image_url'].isna()]\n",
        "    data= data[['code', 'packaging_tags']].dropna().drop_duplicates('code')\n",
        "    df_1 = data.set_index('code')['packaging_tags'].str.split(',', expand=True)\n",
        "    value_vars_1 = df_1.columns \n",
        "    df_1 = df_1.reset_index()\n",
        "    df_1 = pd.melt(df_1, id_vars = 'code', value_vars = value_vars_1).dropna()[['code','value']]\n",
        "    #df_dic = pd.read_excel('Voc_dico.xlsx')\n",
        "    dic_transfo1 = dict(zip(df_dic.Label, df_dic.Col))\n",
        "    dic_transfo2 = dict(zip(df_dic.Label, df_dic.Col1))\n",
        "    ##apply les dicos \n",
        "    df_1['brico 1'] = df_1['value'].map(dic_transfo1)\n",
        "    df_1['brico 2'] = df_1['value'].map(dic_transfo2)\n",
        "    df_2 = pd.melt(df_1, id_vars='code', value_vars = ['brico 1', 'brico 2']).dropna()[['code','value']]\n",
        "    one_hot = pd.get_dummies(df_2['value'])\n",
        "    y_target = pd.concat([df_2['code'],one_hot],axis=1)\n",
        "    y_target['code']=y_target['code'].astype(str)\n",
        "    y_target = y_target.reset_index().groupby('code').sum().drop(columns='index')\n",
        "    y_target[y_target > 1] = 1\n",
        "    return y_target\n",
        "    "
      ],
      "execution_count": 0,
      "outputs": []
    },
    {
      "cell_type": "code",
      "metadata": {
        "id": "oBK_MOxRSanm",
        "colab_type": "code",
        "colab": {}
      },
      "source": [
        "import os\n",
        "import random\n",
        "import shutil\n",
        "\n",
        "\n",
        "def img_train_test_split(img_source_dir, train_size):\n",
        "    \"\"\"\n",
        "    Randomly splits images over a train and validation folder, while preserving the folder structure\n",
        "    \n",
        "    Parameters\n",
        "    ----------\n",
        "    img_source_dir : string\n",
        "        Path to the folder with the images to be split. Can be absolute or relative path   \n",
        "        \n",
        "    train_size : float\n",
        "        Proportion of the original images that need to be copied in the subdirectory in the train folder\n",
        "    \"\"\"    \n",
        "    if not (isinstance(img_source_dir, str)):\n",
        "        raise AttributeError('img_source_dir must be a string')\n",
        "        \n",
        "    if not os.path.exists(img_source_dir):\n",
        "        raise OSError('img_source_dir does not exist')\n",
        "        \n",
        "    if not (isinstance(train_size, float)):\n",
        "        raise AttributeError('train_size must be a float')\n",
        "        \n",
        "    # Set up empty folder structure if not exists\n",
        "    if not os.path.exists('/content/data_img'):\n",
        "      %cd /content/\n",
        "      %mkdir data_img\n",
        "\n",
        "    else:\n",
        "      if not os.path.exists('/content/data_img/train'):\n",
        "        %cd /content/data_img/\n",
        "        %mkdir train\n",
        "      if not os.path.exists('/content/data_img/validation'):\n",
        "        %cd /content/data_img/\n",
        "        %mkdir validation\n",
        "    \n",
        "    ignored = {\"train\", \"test\", \"validation\",\"id_downloaded.npy\"}\n",
        "    list_files = [x for x in os.listdir(img_source_dir) if x not in ignored]\n",
        "    indicies_train = random.sample(range(len(list_files)), int(train_size*len(list_files)))\n",
        "    train_list = [list_files[i] for i in indicies_train]\n",
        "    test_list = [x for x in list_files if x not in train_list]\n",
        "\n",
        "    for i in range(0,len(train_list),1):\n",
        "      shutil.move(\"/content/data_img/\"+str(train_list[i]),\n",
        "           \"/content/data_img/train/\"+str(train_list[i]))\n",
        "    for i in range(0,len(test_list),1):\n",
        "      shutil.move(\"/content/data_img/\"+str(test_list[i]),\n",
        "           \"/content/data_img/validation/\"+str(test_list[i]))"
      ],
      "execution_count": 0,
      "outputs": []
    },
    {
      "cell_type": "markdown",
      "metadata": {
        "id": "EHBwfTJlSp6Q",
        "colab_type": "text"
      },
      "source": [
        "download images"
      ]
    },
    {
      "cell_type": "code",
      "metadata": {
        "id": "ykrrrSDQSrhH",
        "colab_type": "code",
        "colab": {
          "base_uri": "https://localhost:8080/",
          "height": 84
        },
        "outputId": "96896614-da8a-4acd-e634-86777e5f5213"
      },
      "source": [
        "%cd /content/\n",
        "image_dowloading(data=data,data_img='/content/data_img/')"
      ],
      "execution_count": 10,
      "outputs": [
        {
          "output_type": "stream",
          "text": [
            "/content\n",
            "/content/data_img\n",
            "0 images couldnt be downloaded\n",
            "3 images has been downloaded\n"
          ],
          "name": "stdout"
        }
      ]
    },
    {
      "cell_type": "markdown",
      "metadata": {
        "id": "4EwvW6UKUdgA",
        "colab_type": "text"
      },
      "source": [
        "y_target creation\n"
      ]
    },
    {
      "cell_type": "code",
      "metadata": {
        "id": "5ubDWaDnUhBE",
        "colab_type": "code",
        "colab": {}
      },
      "source": [
        "y_target = y_target_creation(data=data,df_dic=dico)"
      ],
      "execution_count": 0,
      "outputs": []
    },
    {
      "cell_type": "markdown",
      "metadata": {
        "id": "SNyLgUGYVAHl",
        "colab_type": "text"
      },
      "source": [
        "train/test split for images\n"
      ]
    },
    {
      "cell_type": "code",
      "metadata": {
        "id": "tSCNc3krUqHe",
        "colab_type": "code",
        "colab": {
          "base_uri": "https://localhost:8080/",
          "height": 50
        },
        "outputId": "93fb317b-8f6e-4681-c0f4-de391166fb16"
      },
      "source": [
        "img_train_test_split('/content/data_img',0.7)"
      ],
      "execution_count": 12,
      "outputs": [
        {
          "output_type": "stream",
          "text": [
            "/content/data_img\n",
            "/content/data_img\n"
          ],
          "name": "stdout"
        }
      ]
    }
  ]
}