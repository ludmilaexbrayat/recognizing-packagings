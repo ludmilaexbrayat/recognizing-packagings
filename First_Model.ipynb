{
  "nbformat": 4,
  "nbformat_minor": 0,
  "metadata": {
    "colab": {
      "name": "First Model.ipynb",
      "provenance": [],
      "include_colab_link": true
    },
    "kernelspec": {
      "name": "python3",
      "display_name": "Python 3"
    }
  },
  "cells": [
    {
      "cell_type": "markdown",
      "metadata": {
        "id": "view-in-github",
        "colab_type": "text"
      },
      "source": [
        "<a href=\"https://colab.research.google.com/github/ludmilaexbrayat/recognizing-packagings/blob/master/First_Model.ipynb\" target=\"_parent\"><img src=\"https://colab.research.google.com/assets/colab-badge.svg\" alt=\"Open In Colab\"/></a>"
      ]
    },
    {
      "cell_type": "markdown",
      "metadata": {
        "id": "yy1eZe8fhq2B",
        "colab_type": "text"
      },
      "source": [
        "# First Model"
      ]
    },
    {
      "cell_type": "markdown",
      "metadata": {
        "id": "zWuWP6rgkECJ",
        "colab_type": "text"
      },
      "source": [
        "## Colab preparation"
      ]
    },
    {
      "cell_type": "code",
      "metadata": {
        "id": "qJMvE6makXr5",
        "colab_type": "code",
        "colab": {}
      },
      "source": [
        "from pydrive.auth import GoogleAuth\n",
        "from pydrive.drive import GoogleDrive\n",
        "from google.colab import auth\n",
        "from oauth2client.client import GoogleCredentials\n",
        "# Authenticate and create the PyDrive client.\n",
        "auth.authenticate_user()\n",
        "gauth = GoogleAuth()\n",
        "gauth.credentials = GoogleCredentials.get_application_default()\n",
        "drive = GoogleDrive(gauth)"
      ],
      "execution_count": 0,
      "outputs": []
    },
    {
      "cell_type": "code",
      "metadata": {
        "id": "A_-IAXxekDe7",
        "colab_type": "code",
        "colab": {}
      },
      "source": [
        "!pip install -U bcolz"
      ],
      "execution_count": 0,
      "outputs": []
    },
    {
      "cell_type": "markdown",
      "metadata": {
        "id": "AwNknkwSj2Kd",
        "colab_type": "text"
      },
      "source": [
        "## Packages"
      ]
    },
    {
      "cell_type": "code",
      "metadata": {
        "id": "ZP7oCBkChlBl",
        "colab_type": "code",
        "colab": {}
      },
      "source": [
        "from PIL import Image\n",
        "import numpy as np\n",
        "import matplotlib.pyplot as plt\n",
        "import os\n",
        "import torch\n",
        "import torch.nn as nn\n",
        "import torchvision\n",
        "from torchvision import models,transforms,datasets\n",
        "import bcolz\n",
        "import time\n",
        "%matplotlib inline"
      ],
      "execution_count": 0,
      "outputs": []
    },
    {
      "cell_type": "markdown",
      "metadata": {
        "id": "-ZpbGWrWlfcT",
        "colab_type": "text"
      },
      "source": [
        "## Import Data"
      ]
    },
    {
      "cell_type": "code",
      "metadata": {
        "id": "irz3XZuylPCJ",
        "colab_type": "code",
        "outputId": "eb24df23-4f63-4e1d-e80f-3aa9e0abc14a",
        "colab": {
          "base_uri": "https://localhost:8080/",
          "height": 34
        }
      },
      "source": [
        "# Downloading the rar file storing all our images\n",
        "link = 'https://drive.google.com/open?id=1py-LmKhQuqwHFvEoSHIH44S60He4IYox'\n",
        "fluff, id = link.split('=')\n",
        "print(id) # Verify that you have everything after '='\n",
        "downloaded = drive.CreateFile({'id':id}) \n",
        "downloaded.GetContentFile('X_sample.rar')"
      ],
      "execution_count": 3,
      "outputs": [
        {
          "output_type": "stream",
          "text": [
            "1py-LmKhQuqwHFvEoSHIH44S60He4IYox\n"
          ],
          "name": "stdout"
        }
      ]
    },
    {
      "cell_type": "code",
      "metadata": {
        "id": "58ZpdOH2qp3Q",
        "colab_type": "code",
        "colab": {}
      },
      "source": [
        "# Creating folder\n",
        "%mkdir images\n",
        "\n",
        "# Unzipping file\n",
        "!unrar e X_sample.rar images\n",
        "\n",
        "# Opening \"images\" folder\n",
        "%cd images"
      ],
      "execution_count": 0,
      "outputs": []
    },
    {
      "cell_type": "markdown",
      "metadata": {
        "id": "odq8eHnmskYi",
        "colab_type": "text"
      },
      "source": [
        "## Data Processing"
      ]
    },
    {
      "cell_type": "code",
      "metadata": {
        "id": "gH6RdxcDhorh",
        "colab_type": "code",
        "colab": {}
      },
      "source": [
        "## To normalize ? (find out how to find the mean and standard deviation of RGB for our dataset)\n",
        "#normalize = transforms.Normalize(mean=[?,?,?], std=[?,?,?])\n",
        "\n",
        "vgg_format = transforms.Compose([\n",
        "                torchvision.transforms.Resize((224,224)),\n",
        "                transforms.ToTensor()#,\n",
        "                #normalize,\n",
        "            ])"
      ],
      "execution_count": 0,
      "outputs": []
    },
    {
      "cell_type": "code",
      "metadata": {
        "id": "plH1Zp9cu4ku",
        "colab_type": "code",
        "colab": {}
      },
      "source": [
        ""
      ],
      "execution_count": 0,
      "outputs": []
    }
  ]
}