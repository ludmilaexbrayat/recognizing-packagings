{
 "cells": [
  {
   "cell_type": "markdown",
   "metadata": {
    "colab_type": "text",
    "id": "view-in-github"
   },
   "source": [
    "<a href=\"https://colab.research.google.com/github/ludmilaexbrayat/recognizing-packagings/blob/master/First_Model.ipynb\" target=\"_parent\"><img src=\"https://colab.research.google.com/assets/colab-badge.svg\" alt=\"Open In Colab\"/></a>"
   ]
  },
  {
   "cell_type": "markdown",
   "metadata": {
    "colab_type": "text",
    "id": "yy1eZe8fhq2B"
   },
   "source": [
    "# First Model"
   ]
  },
  {
   "cell_type": "markdown",
   "metadata": {
    "colab_type": "text",
    "id": "zWuWP6rgkECJ"
   },
   "source": [
    "## Colab preparation"
   ]
  },
  {
   "cell_type": "code",
   "execution_count": 0,
   "metadata": {
    "colab": {},
    "colab_type": "code",
    "id": "qJMvE6makXr5"
   },
   "outputs": [],
   "source": [
    "from pydrive.auth import GoogleAuth\n",
    "from pydrive.drive import GoogleDrive\n",
    "from google.colab import auth\n",
    "from oauth2client.client import GoogleCredentials\n",
    "# Authenticate and create the PyDrive client.\n",
    "auth.authenticate_user()\n",
    "gauth = GoogleAuth()\n",
    "gauth.credentials = GoogleCredentials.get_application_default()\n",
    "drive = GoogleDrive(gauth)"
   ]
  },
  {
   "cell_type": "code",
   "execution_count": 4,
   "metadata": {
    "colab": {
     "base_uri": "https://localhost:8080/",
     "height": 224
    },
    "colab_type": "code",
    "id": "A_-IAXxekDe7",
    "outputId": "54439705-8895-482e-ef91-5644faa92858"
   },
   "outputs": [
    {
     "name": "stdout",
     "output_type": "stream",
     "text": [
      "Collecting bcolz\n",
      "\u001b[?25l  Downloading https://files.pythonhosted.org/packages/5c/4e/23942de9d5c0fb16f10335fa83e52b431bcb8c0d4a8419c9ac206268c279/bcolz-1.2.1.tar.gz (1.5MB)\n",
      "\r",
      "\u001b[K     |▎                               | 10kB 16.8MB/s eta 0:00:01\r",
      "\u001b[K     |▌                               | 20kB 3.4MB/s eta 0:00:01\r",
      "\u001b[K     |▊                               | 30kB 4.9MB/s eta 0:00:01\r",
      "\u001b[K     |█                               | 40kB 3.2MB/s eta 0:00:01\r",
      "\u001b[K     |█▏                              | 51kB 3.9MB/s eta 0:00:01\r",
      "\u001b[K     |█▍                              | 61kB 4.6MB/s eta 0:00:01\r",
      "\u001b[K     |█▋                              | 71kB 5.3MB/s eta 0:00:01\r",
      "\u001b[K     |█▉                              | 81kB 6.0MB/s eta 0:00:01\r",
      "\u001b[K     |██                              | 92kB 6.6MB/s eta 0:00:01\r",
      "\u001b[K     |██▎                             | 102kB 5.2MB/s eta 0:00:01\r",
      "\u001b[K     |██▌                             | 112kB 5.2MB/s eta 0:00:01\r",
      "\u001b[K     |██▊                             | 122kB 5.2MB/s eta 0:00:01\r",
      "\u001b[K     |███                             | 133kB 5.2MB/s eta 0:00:01\r",
      "\u001b[K     |███▏                            | 143kB 5.2MB/s eta 0:00:01\r",
      "\u001b[K     |███▍                            | 153kB 5.2MB/s eta 0:00:01\r",
      "\u001b[K     |███▋                            | 163kB 5.2MB/s eta 0:00:01\r",
      "\u001b[K     |███▉                            | 174kB 5.2MB/s eta 0:00:01\r",
      "\u001b[K     |████                            | 184kB 5.2MB/s eta 0:00:01\r",
      "\u001b[K     |████▎                           | 194kB 5.2MB/s eta 0:00:01\r",
      "\u001b[K     |████▌                           | 204kB 5.2MB/s eta 0:00:01\r",
      "\u001b[K     |████▊                           | 215kB 5.2MB/s eta 0:00:01\r",
      "\u001b[K     |█████                           | 225kB 5.2MB/s eta 0:00:01\r",
      "\u001b[K     |█████▏                          | 235kB 5.2MB/s eta 0:00:01\r",
      "\u001b[K     |█████▍                          | 245kB 5.2MB/s eta 0:00:01\r",
      "\u001b[K     |█████▋                          | 256kB 5.2MB/s eta 0:00:01\r",
      "\u001b[K     |█████▉                          | 266kB 5.2MB/s eta 0:00:01\r",
      "\u001b[K     |██████                          | 276kB 5.2MB/s eta 0:00:01\r",
      "\u001b[K     |██████▎                         | 286kB 5.2MB/s eta 0:00:01\r",
      "\u001b[K     |██████▌                         | 296kB 5.2MB/s eta 0:00:01\r",
      "\u001b[K     |██████▊                         | 307kB 5.2MB/s eta 0:00:01\r",
      "\u001b[K     |███████                         | 317kB 5.2MB/s eta 0:00:01\r",
      "\u001b[K     |███████▏                        | 327kB 5.2MB/s eta 0:00:01\r",
      "\u001b[K     |███████▍                        | 337kB 5.2MB/s eta 0:00:01\r",
      "\u001b[K     |███████▋                        | 348kB 5.2MB/s eta 0:00:01\r",
      "\u001b[K     |███████▉                        | 358kB 5.2MB/s eta 0:00:01\r",
      "\u001b[K     |████████                        | 368kB 5.2MB/s eta 0:00:01\r",
      "\u001b[K     |████████▎                       | 378kB 5.2MB/s eta 0:00:01\r",
      "\u001b[K     |████████▌                       | 389kB 5.2MB/s eta 0:00:01\r",
      "\u001b[K     |████████▊                       | 399kB 5.2MB/s eta 0:00:01\r",
      "\u001b[K     |█████████                       | 409kB 5.2MB/s eta 0:00:01\r",
      "\u001b[K     |█████████▏                      | 419kB 5.2MB/s eta 0:00:01\r",
      "\u001b[K     |█████████▍                      | 430kB 5.2MB/s eta 0:00:01\r",
      "\u001b[K     |█████████▋                      | 440kB 5.2MB/s eta 0:00:01\r",
      "\u001b[K     |█████████▉                      | 450kB 5.2MB/s eta 0:00:01\r",
      "\u001b[K     |██████████                      | 460kB 5.2MB/s eta 0:00:01\r",
      "\u001b[K     |██████████▎                     | 471kB 5.2MB/s eta 0:00:01\r",
      "\u001b[K     |██████████▋                     | 481kB 5.2MB/s eta 0:00:01\r",
      "\u001b[K     |██████████▉                     | 491kB 5.2MB/s eta 0:00:01\r",
      "\u001b[K     |███████████                     | 501kB 5.2MB/s eta 0:00:01\r",
      "\u001b[K     |███████████▎                    | 512kB 5.2MB/s eta 0:00:01\r",
      "\u001b[K     |███████████▌                    | 522kB 5.2MB/s eta 0:00:01\r",
      "\u001b[K     |███████████▊                    | 532kB 5.2MB/s eta 0:00:01\r",
      "\u001b[K     |████████████                    | 542kB 5.2MB/s eta 0:00:01\r",
      "\u001b[K     |████████████▏                   | 552kB 5.2MB/s eta 0:00:01\r",
      "\u001b[K     |████████████▍                   | 563kB 5.2MB/s eta 0:00:01\r",
      "\u001b[K     |████████████▋                   | 573kB 5.2MB/s eta 0:00:01\r",
      "\u001b[K     |████████████▉                   | 583kB 5.2MB/s eta 0:00:01\r",
      "\u001b[K     |█████████████                   | 593kB 5.2MB/s eta 0:00:01\r",
      "\u001b[K     |█████████████▎                  | 604kB 5.2MB/s eta 0:00:01\r",
      "\u001b[K     |█████████████▌                  | 614kB 5.2MB/s eta 0:00:01\r",
      "\u001b[K     |█████████████▊                  | 624kB 5.2MB/s eta 0:00:01\r",
      "\u001b[K     |██████████████                  | 634kB 5.2MB/s eta 0:00:01\r",
      "\u001b[K     |██████████████▏                 | 645kB 5.2MB/s eta 0:00:01\r",
      "\u001b[K     |██████████████▍                 | 655kB 5.2MB/s eta 0:00:01\r",
      "\u001b[K     |██████████████▋                 | 665kB 5.2MB/s eta 0:00:01\r",
      "\u001b[K     |██████████████▉                 | 675kB 5.2MB/s eta 0:00:01\r",
      "\u001b[K     |███████████████                 | 686kB 5.2MB/s eta 0:00:01\r",
      "\u001b[K     |███████████████▎                | 696kB 5.2MB/s eta 0:00:01\r",
      "\u001b[K     |███████████████▌                | 706kB 5.2MB/s eta 0:00:01\r",
      "\u001b[K     |███████████████▊                | 716kB 5.2MB/s eta 0:00:01\r",
      "\u001b[K     |████████████████                | 727kB 5.2MB/s eta 0:00:01\r",
      "\u001b[K     |████████████████▏               | 737kB 5.2MB/s eta 0:00:01\r",
      "\u001b[K     |████████████████▍               | 747kB 5.2MB/s eta 0:00:01\r",
      "\u001b[K     |████████████████▋               | 757kB 5.2MB/s eta 0:00:01\r",
      "\u001b[K     |████████████████▉               | 768kB 5.2MB/s eta 0:00:01\r",
      "\u001b[K     |█████████████████               | 778kB 5.2MB/s eta 0:00:01\r",
      "\u001b[K     |█████████████████▎              | 788kB 5.2MB/s eta 0:00:01\r",
      "\u001b[K     |█████████████████▌              | 798kB 5.2MB/s eta 0:00:01\r",
      "\u001b[K     |█████████████████▊              | 808kB 5.2MB/s eta 0:00:01\r",
      "\u001b[K     |██████████████████              | 819kB 5.2MB/s eta 0:00:01\r",
      "\u001b[K     |██████████████████▏             | 829kB 5.2MB/s eta 0:00:01\r",
      "\u001b[K     |██████████████████▍             | 839kB 5.2MB/s eta 0:00:01\r",
      "\u001b[K     |██████████████████▋             | 849kB 5.2MB/s eta 0:00:01\r",
      "\u001b[K     |██████████████████▉             | 860kB 5.2MB/s eta 0:00:01\r",
      "\u001b[K     |███████████████████             | 870kB 5.2MB/s eta 0:00:01\r",
      "\u001b[K     |███████████████████▎            | 880kB 5.2MB/s eta 0:00:01\r",
      "\u001b[K     |███████████████████▌            | 890kB 5.2MB/s eta 0:00:01\r",
      "\u001b[K     |███████████████████▊            | 901kB 5.2MB/s eta 0:00:01\r",
      "\u001b[K     |████████████████████            | 911kB 5.2MB/s eta 0:00:01\r",
      "\u001b[K     |████████████████████▏           | 921kB 5.2MB/s eta 0:00:01\r",
      "\u001b[K     |████████████████████▍           | 931kB 5.2MB/s eta 0:00:01\r",
      "\u001b[K     |████████████████████▋           | 942kB 5.2MB/s eta 0:00:01\r",
      "\u001b[K     |████████████████████▉           | 952kB 5.2MB/s eta 0:00:01\r",
      "\u001b[K     |█████████████████████▏          | 962kB 5.2MB/s eta 0:00:01\r",
      "\u001b[K     |█████████████████████▍          | 972kB 5.2MB/s eta 0:00:01\r",
      "\u001b[K     |█████████████████████▋          | 983kB 5.2MB/s eta 0:00:01\r",
      "\u001b[K     |█████████████████████▉          | 993kB 5.2MB/s eta 0:00:01\r",
      "\u001b[K     |██████████████████████          | 1.0MB 5.2MB/s eta 0:00:01\r",
      "\u001b[K     |██████████████████████▎         | 1.0MB 5.2MB/s eta 0:00:01\r",
      "\u001b[K     |██████████████████████▌         | 1.0MB 5.2MB/s eta 0:00:01\r",
      "\u001b[K     |██████████████████████▊         | 1.0MB 5.2MB/s eta 0:00:01\r",
      "\u001b[K     |███████████████████████         | 1.0MB 5.2MB/s eta 0:00:01\r",
      "\u001b[K     |███████████████████████▏        | 1.1MB 5.2MB/s eta 0:00:01\r",
      "\u001b[K     |███████████████████████▍        | 1.1MB 5.2MB/s eta 0:00:01\r",
      "\u001b[K     |███████████████████████▋        | 1.1MB 5.2MB/s eta 0:00:01\r",
      "\u001b[K     |███████████████████████▉        | 1.1MB 5.2MB/s eta 0:00:01\r",
      "\u001b[K     |████████████████████████        | 1.1MB 5.2MB/s eta 0:00:01\r",
      "\u001b[K     |████████████████████████▎       | 1.1MB 5.2MB/s eta 0:00:01\r",
      "\u001b[K     |████████████████████████▌       | 1.1MB 5.2MB/s eta 0:00:01\r",
      "\u001b[K     |████████████████████████▊       | 1.1MB 5.2MB/s eta 0:00:01\r",
      "\u001b[K     |█████████████████████████       | 1.1MB 5.2MB/s eta 0:00:01\r",
      "\u001b[K     |█████████████████████████▏      | 1.1MB 5.2MB/s eta 0:00:01\r",
      "\u001b[K     |█████████████████████████▍      | 1.2MB 5.2MB/s eta 0:00:01\r",
      "\u001b[K     |█████████████████████████▋      | 1.2MB 5.2MB/s eta 0:00:01\r",
      "\u001b[K     |█████████████████████████▉      | 1.2MB 5.2MB/s eta 0:00:01\r",
      "\u001b[K     |██████████████████████████      | 1.2MB 5.2MB/s eta 0:00:01\r",
      "\u001b[K     |██████████████████████████▎     | 1.2MB 5.2MB/s eta 0:00:01\r",
      "\u001b[K     |██████████████████████████▌     | 1.2MB 5.2MB/s eta 0:00:01\r",
      "\u001b[K     |██████████████████████████▊     | 1.2MB 5.2MB/s eta 0:00:01\r",
      "\u001b[K     |███████████████████████████     | 1.2MB 5.2MB/s eta 0:00:01\r",
      "\u001b[K     |███████████████████████████▏    | 1.2MB 5.2MB/s eta 0:00:01\r",
      "\u001b[K     |███████████████████████████▍    | 1.2MB 5.2MB/s eta 0:00:01\r",
      "\u001b[K     |███████████████████████████▋    | 1.3MB 5.2MB/s eta 0:00:01\r",
      "\u001b[K     |███████████████████████████▉    | 1.3MB 5.2MB/s eta 0:00:01\r",
      "\u001b[K     |████████████████████████████    | 1.3MB 5.2MB/s eta 0:00:01\r",
      "\u001b[K     |████████████████████████████▎   | 1.3MB 5.2MB/s eta 0:00:01\r",
      "\u001b[K     |████████████████████████████▌   | 1.3MB 5.2MB/s eta 0:00:01\r",
      "\u001b[K     |████████████████████████████▊   | 1.3MB 5.2MB/s eta 0:00:01\r",
      "\u001b[K     |█████████████████████████████   | 1.3MB 5.2MB/s eta 0:00:01\r",
      "\u001b[K     |█████████████████████████████▏  | 1.3MB 5.2MB/s eta 0:00:01\r",
      "\u001b[K     |█████████████████████████████▍  | 1.3MB 5.2MB/s eta 0:00:01\r",
      "\u001b[K     |█████████████████████████████▋  | 1.4MB 5.2MB/s eta 0:00:01\r",
      "\u001b[K     |█████████████████████████████▉  | 1.4MB 5.2MB/s eta 0:00:01\r",
      "\u001b[K     |██████████████████████████████  | 1.4MB 5.2MB/s eta 0:00:01\r",
      "\u001b[K     |██████████████████████████████▎ | 1.4MB 5.2MB/s eta 0:00:01\r",
      "\u001b[K     |██████████████████████████████▌ | 1.4MB 5.2MB/s eta 0:00:01\r",
      "\u001b[K     |██████████████████████████████▊ | 1.4MB 5.2MB/s eta 0:00:01\r",
      "\u001b[K     |███████████████████████████████ | 1.4MB 5.2MB/s eta 0:00:01\r",
      "\u001b[K     |███████████████████████████████▏| 1.4MB 5.2MB/s eta 0:00:01\r",
      "\u001b[K     |███████████████████████████████▍| 1.4MB 5.2MB/s eta 0:00:01\r",
      "\u001b[K     |███████████████████████████████▊| 1.4MB 5.2MB/s eta 0:00:01\r",
      "\u001b[K     |████████████████████████████████| 1.5MB 5.2MB/s eta 0:00:01\r",
      "\u001b[K     |████████████████████████████████| 1.5MB 5.2MB/s \n",
      "\u001b[?25hRequirement already satisfied, skipping upgrade: numpy>=1.7 in /usr/local/lib/python3.6/dist-packages (from bcolz) (1.17.3)\n",
      "Building wheels for collected packages: bcolz\n",
      "  Building wheel for bcolz (setup.py) ... \u001b[?25l\u001b[?25hdone\n",
      "  Created wheel for bcolz: filename=bcolz-1.2.1-cp36-cp36m-linux_x86_64.whl size=2655668 sha256=10414cfe12e49e7041334e18f8992db792d4dbb7b5620bf3b41e1e8208e25b86\n",
      "  Stored in directory: /root/.cache/pip/wheels/9f/78/26/fb8c0acb91a100dc8914bf236c4eaa4b207cb876893c40b745\n",
      "Successfully built bcolz\n",
      "Installing collected packages: bcolz\n",
      "Successfully installed bcolz-1.2.1\n"
     ]
    }
   ],
   "source": [
    "!pip install -U bcolz"
   ]
  },
  "cells": [
    {
      "cell_type": "markdown",
      "metadata": {
        "id": "view-in-github",
        "colab_type": "text"
      },
      "source": [
        "<a href=\"https://colab.research.google.com/github/ludmilaexbrayat/recognizing-packagings/blob/master/First_Model.ipynb\" target=\"_parent\"><img src=\"https://colab.research.google.com/assets/colab-badge.svg\" alt=\"Open In Colab\"/></a>"
      ]
    },
    {
      "cell_type": "markdown",
      "metadata": {
        "id": "yy1eZe8fhq2B",
        "colab_type": "text"
      },
      "source": [
        "# First Model"
      ]
    },
    {
      "cell_type": "markdown",
      "metadata": {
        "id": "zWuWP6rgkECJ",
        "colab_type": "text"
      },
      "source": [
        "## Colab preparation"
      ]
    },
    {
      "cell_type": "code",
      "metadata": {
        "id": "qJMvE6makXr5",
        "colab_type": "code",
        "colab": {}
      },
      "source": [
        "from pydrive.auth import GoogleAuth\n",
        "from pydrive.drive import GoogleDrive\n",
        "from google.colab import auth\n",
        "from oauth2client.client import GoogleCredentials\n",
        "# Authenticate and create the PyDrive client.\n",
        "auth.authenticate_user()\n",
        "gauth = GoogleAuth()\n",
        "gauth.credentials = GoogleCredentials.get_application_default()\n",
        "drive = GoogleDrive(gauth)"
      ],
      "execution_count": 0,
      "outputs": []
    },
    {
      "cell_type": "code",
      "metadata": {
        "id": "A_-IAXxekDe7",
        "colab_type": "code",
        "colab": {}
      },
      "source": [
        "!pip install -U bcolz"
      ],
      "execution_count": 0,
      "outputs": []
    },
    {
      "cell_type": "markdown",
      "metadata": {
        "id": "AwNknkwSj2Kd",
        "colab_type": "text"
      },
      "source": [
        "## Packages"
      ]
    },
    {
      "cell_type": "code",
      "metadata": {
        "id": "ZP7oCBkChlBl",
        "colab_type": "code",
        "colab": {}
      },
      "source": [
        "from PIL import Image\n",
        "import numpy as np\n",
        "import matplotlib.pyplot as plt\n",
        "import os\n",
        "import torch\n",
        "import torch.nn as nn\n",
        "import torchvision\n",
        "from torchvision import models,transforms,datasets\n",
        "import bcolz\n",
        "import time\n",
        "%matplotlib inline"
      ],
      "execution_count": 0,
      "outputs": []
    },
    {
      "cell_type": "markdown",
      "metadata": {
        "id": "-ZpbGWrWlfcT",
        "colab_type": "text"
      },
      "source": [
        "## Import Data"
      ]
    },
    {
      "cell_type": "code",
      "metadata": {
        "id": "irz3XZuylPCJ",
        "colab_type": "code",
        "outputId": "eb24df23-4f63-4e1d-e80f-3aa9e0abc14a",
        "colab": {
          "base_uri": "https://localhost:8080/",
          "height": 34
        }
      },
      "source": [
        "# Downloading the rar file storing all our images\n",
        "link = 'https://drive.google.com/open?id=1py-LmKhQuqwHFvEoSHIH44S60He4IYox'\n",
        "fluff, id = link.split('=')\n",
        "print(id) # Verify that you have everything after '='\n",
        "downloaded = drive.CreateFile({'id':id}) \n",
        "downloaded.GetContentFile('X_sample.rar')"
      ],
      "execution_count": 3,
      "outputs": [
        {
          "output_type": "stream",
          "text": [
            "1py-LmKhQuqwHFvEoSHIH44S60He4IYox\n"
          ],
          "name": "stdout"
        }
      ]
    },
    {
      "cell_type": "code",
      "metadata": {
        "id": "58ZpdOH2qp3Q",
        "colab_type": "code",
        "colab": {}
      },
      "source": [
        "# Creating folder\n",
        "%mkdir images\n",
        "\n",
        "# Unzipping file\n",
        "!unrar e X_sample.rar images\n",
        "\n",
        "# Opening \"images\" folder\n",
        "%cd images"
      ],
      "execution_count": 0,
      "outputs": []
    },
    {
      "cell_type": "markdown",
      "metadata": {
        "id": "odq8eHnmskYi",
        "colab_type": "text"
      },
      "source": [
        "## Data Processing"
      ]
    },
    "colab_type": "code",
    "id": "irz3XZuylPCJ",
    "outputId": "7bea2426-7b9d-4712-9b9f-644385a62cdd"
   },
   "outputs": [
    {
      "cell_type": "code",
      "metadata": {
        "id": "gH6RdxcDhorh",
        "colab_type": "code",
        "colab": {}
      },
      "source": [
        "## To normalize ? (find out how to find the mean and standard deviation of RGB for our dataset)\n",
        "#normalize = transforms.Normalize(mean=[?,?,?], std=[?,?,?])\n",
        "\n",
        "vgg_format = transforms.Compose([\n",
        "                torchvision.transforms.Resize((224,224)),\n",
        "                transforms.ToTensor()#,\n",
        "                #normalize,\n",
        "            ])"
      ],
      "execution_count": 0,
      "outputs": []
    },
    "colab_type": "code",
    "id": "mQrhe_1NlO83",
    "outputId": "99f236ee-ab07-4570-fcae-e6ae395046b4"
   },
   "outputs": [
    {
      "cell_type": "code",
      "metadata": {
        "id": "plH1Zp9cu4ku",
        "colab_type": "code",
        "colab": {}
      },
      "source": [
        ""
      ],
      "execution_count": 0,
      "outputs": []
    }
   ],
   "source": [
    "!ls"
   ]
  },
  {
   "cell_type": "code",
   "execution_count": 0,
   "metadata": {
    "colab": {},
    "colab_type": "code",
    "id": "EY1pAO5xlO5h"
   },
   "outputs": [],
   "source": []
  },
  {
   "cell_type": "code",
   "execution_count": 0,
   "metadata": {
    "colab": {},
    "colab_type": "code",
    "id": "gH6RdxcDhorh"
   },
   "outputs": [],
   "source": []
  }
 ],
 "metadata": {
  "colab": {
   "include_colab_link": true,
   "name": "First Model.ipynb",
   "provenance": []
  },
  "kernelspec": {
   "display_name": "Python 3",
   "language": "python",
   "name": "python3"
  },
  "language_info": {
   "codemirror_mode": {
    "name": "ipython",
    "version": 3
   },
   "file_extension": ".py",
   "mimetype": "text/x-python",
   "name": "python",
   "nbconvert_exporter": "python",
   "pygments_lexer": "ipython3",
   "version": "3.6.8"
  }
 },
 "nbformat": 4,
 "nbformat_minor": 1
}
