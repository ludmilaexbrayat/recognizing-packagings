{
  "nbformat": 4,
  "nbformat_minor": 0,
  "metadata": {
    "colab": {
      "name": "First Model.ipynb",
      "provenance": [],
      "include_colab_link": true
    },
    "kernelspec": {
      "name": "python3",
      "display_name": "Python 3"
    }
  },
  "cells": [
    {
      "cell_type": "markdown",
      "metadata": {
        "id": "view-in-github",
        "colab_type": "text"
      },
      "source": [
        "<a href=\"https://colab.research.google.com/github/ludmilaexbrayat/recognizing-packagings/blob/master/First_Model.ipynb\" target=\"_parent\"><img src=\"https://colab.research.google.com/assets/colab-badge.svg\" alt=\"Open In Colab\"/></a>"
      ]
    },
    {
      "cell_type": "markdown",
      "metadata": {
        "id": "yy1eZe8fhq2B",
        "colab_type": "text"
      },
      "source": [
        "# First Model"
      ]
    },
    {
      "cell_type": "markdown",
      "metadata": {
        "id": "zWuWP6rgkECJ",
        "colab_type": "text"
      },
      "source": [
        "## Colab preparation"
      ]
    },
    {
      "cell_type": "code",
      "metadata": {
        "id": "qJMvE6makXr5",
        "colab_type": "code",
        "colab": {}
      },
      "source": [
        "from pydrive.auth import GoogleAuth\n",
        "from pydrive.drive import GoogleDrive\n",
        "from google.colab import auth\n",
        "from oauth2client.client import GoogleCredentials\n",
        "# Authenticate and create the PyDrive client.\n",
        "auth.authenticate_user()\n",
        "gauth = GoogleAuth()\n",
        "gauth.credentials = GoogleCredentials.get_application_default()\n",
        "drive = GoogleDrive(gauth)"
      ],
      "execution_count": 0,
      "outputs": []
    },
    {
      "cell_type": "code",
      "metadata": {
        "id": "A_-IAXxekDe7",
        "colab_type": "code",
        "outputId": "7cebc93f-0665-4588-8255-efc17e6be19e",
        "colab": {
          "base_uri": "https://localhost:8080/",
          "height": 224
        }
      },
      "source": [
        "!pip install -U bcolz"
      ],
      "execution_count": 2,
      "outputs": [
        {
          "output_type": "stream",
          "text": [
            "Collecting bcolz\n",
            "\u001b[?25l  Downloading https://files.pythonhosted.org/packages/5c/4e/23942de9d5c0fb16f10335fa83e52b431bcb8c0d4a8419c9ac206268c279/bcolz-1.2.1.tar.gz (1.5MB)\n",
            "\r\u001b[K     |▎                               | 10kB 15.8MB/s eta 0:00:01\r\u001b[K     |▌                               | 20kB 6.6MB/s eta 0:00:01\r\u001b[K     |▊                               | 30kB 9.2MB/s eta 0:00:01\r\u001b[K     |█                               | 40kB 5.9MB/s eta 0:00:01\r\u001b[K     |█▏                              | 51kB 7.1MB/s eta 0:00:01\r\u001b[K     |█▍                              | 61kB 8.4MB/s eta 0:00:01\r\u001b[K     |█▋                              | 71kB 9.5MB/s eta 0:00:01\r\u001b[K     |█▉                              | 81kB 10.6MB/s eta 0:00:01\r\u001b[K     |██                              | 92kB 11.7MB/s eta 0:00:01\r\u001b[K     |██▎                             | 102kB 9.5MB/s eta 0:00:01\r\u001b[K     |██▌                             | 112kB 9.5MB/s eta 0:00:01\r\u001b[K     |██▊                             | 122kB 9.5MB/s eta 0:00:01\r\u001b[K     |███                             | 133kB 9.5MB/s eta 0:00:01\r\u001b[K     |███▏                            | 143kB 9.5MB/s eta 0:00:01\r\u001b[K     |███▍                            | 153kB 9.5MB/s eta 0:00:01\r\u001b[K     |███▋                            | 163kB 9.5MB/s eta 0:00:01\r\u001b[K     |███▉                            | 174kB 9.5MB/s eta 0:00:01\r\u001b[K     |████                            | 184kB 9.5MB/s eta 0:00:01\r\u001b[K     |████▎                           | 194kB 9.5MB/s eta 0:00:01\r\u001b[K     |████▌                           | 204kB 9.5MB/s eta 0:00:01\r\u001b[K     |████▊                           | 215kB 9.5MB/s eta 0:00:01\r\u001b[K     |█████                           | 225kB 9.5MB/s eta 0:00:01\r\u001b[K     |█████▏                          | 235kB 9.5MB/s eta 0:00:01\r\u001b[K     |█████▍                          | 245kB 9.5MB/s eta 0:00:01\r\u001b[K     |█████▋                          | 256kB 9.5MB/s eta 0:00:01\r\u001b[K     |█████▉                          | 266kB 9.5MB/s eta 0:00:01\r\u001b[K     |██████                          | 276kB 9.5MB/s eta 0:00:01\r\u001b[K     |██████▎                         | 286kB 9.5MB/s eta 0:00:01\r\u001b[K     |██████▌                         | 296kB 9.5MB/s eta 0:00:01\r\u001b[K     |██████▊                         | 307kB 9.5MB/s eta 0:00:01\r\u001b[K     |███████                         | 317kB 9.5MB/s eta 0:00:01\r\u001b[K     |███████▏                        | 327kB 9.5MB/s eta 0:00:01\r\u001b[K     |███████▍                        | 337kB 9.5MB/s eta 0:00:01\r\u001b[K     |███████▋                        | 348kB 9.5MB/s eta 0:00:01\r\u001b[K     |███████▉                        | 358kB 9.5MB/s eta 0:00:01\r\u001b[K     |████████                        | 368kB 9.5MB/s eta 0:00:01\r\u001b[K     |████████▎                       | 378kB 9.5MB/s eta 0:00:01\r\u001b[K     |████████▌                       | 389kB 9.5MB/s eta 0:00:01\r\u001b[K     |████████▊                       | 399kB 9.5MB/s eta 0:00:01\r\u001b[K     |█████████                       | 409kB 9.5MB/s eta 0:00:01\r\u001b[K     |█████████▏                      | 419kB 9.5MB/s eta 0:00:01\r\u001b[K     |█████████▍                      | 430kB 9.5MB/s eta 0:00:01\r\u001b[K     |█████████▋                      | 440kB 9.5MB/s eta 0:00:01\r\u001b[K     |█████████▉                      | 450kB 9.5MB/s eta 0:00:01\r\u001b[K     |██████████                      | 460kB 9.5MB/s eta 0:00:01\r\u001b[K     |██████████▎                     | 471kB 9.5MB/s eta 0:00:01\r\u001b[K     |██████████▋                     | 481kB 9.5MB/s eta 0:00:01\r\u001b[K     |██████████▉                     | 491kB 9.5MB/s eta 0:00:01\r\u001b[K     |███████████                     | 501kB 9.5MB/s eta 0:00:01\r\u001b[K     |███████████▎                    | 512kB 9.5MB/s eta 0:00:01\r\u001b[K     |███████████▌                    | 522kB 9.5MB/s eta 0:00:01\r\u001b[K     |███████████▊                    | 532kB 9.5MB/s eta 0:00:01\r\u001b[K     |████████████                    | 542kB 9.5MB/s eta 0:00:01\r\u001b[K     |████████████▏                   | 552kB 9.5MB/s eta 0:00:01\r\u001b[K     |████████████▍                   | 563kB 9.5MB/s eta 0:00:01\r\u001b[K     |████████████▋                   | 573kB 9.5MB/s eta 0:00:01\r\u001b[K     |████████████▉                   | 583kB 9.5MB/s eta 0:00:01\r\u001b[K     |█████████████                   | 593kB 9.5MB/s eta 0:00:01\r\u001b[K     |█████████████▎                  | 604kB 9.5MB/s eta 0:00:01\r\u001b[K     |█████████████▌                  | 614kB 9.5MB/s eta 0:00:01\r\u001b[K     |█████████████▊                  | 624kB 9.5MB/s eta 0:00:01\r\u001b[K     |██████████████                  | 634kB 9.5MB/s eta 0:00:01\r\u001b[K     |██████████████▏                 | 645kB 9.5MB/s eta 0:00:01\r\u001b[K     |██████████████▍                 | 655kB 9.5MB/s eta 0:00:01\r\u001b[K     |██████████████▋                 | 665kB 9.5MB/s eta 0:00:01\r\u001b[K     |██████████████▉                 | 675kB 9.5MB/s eta 0:00:01\r\u001b[K     |███████████████                 | 686kB 9.5MB/s eta 0:00:01\r\u001b[K     |███████████████▎                | 696kB 9.5MB/s eta 0:00:01\r\u001b[K     |███████████████▌                | 706kB 9.5MB/s eta 0:00:01\r\u001b[K     |███████████████▊                | 716kB 9.5MB/s eta 0:00:01\r\u001b[K     |████████████████                | 727kB 9.5MB/s eta 0:00:01\r\u001b[K     |████████████████▏               | 737kB 9.5MB/s eta 0:00:01\r\u001b[K     |████████████████▍               | 747kB 9.5MB/s eta 0:00:01\r\u001b[K     |████████████████▋               | 757kB 9.5MB/s eta 0:00:01\r\u001b[K     |████████████████▉               | 768kB 9.5MB/s eta 0:00:01\r\u001b[K     |█████████████████               | 778kB 9.5MB/s eta 0:00:01\r\u001b[K     |█████████████████▎              | 788kB 9.5MB/s eta 0:00:01\r\u001b[K     |█████████████████▌              | 798kB 9.5MB/s eta 0:00:01\r\u001b[K     |█████████████████▊              | 808kB 9.5MB/s eta 0:00:01\r\u001b[K     |██████████████████              | 819kB 9.5MB/s eta 0:00:01\r\u001b[K     |██████████████████▏             | 829kB 9.5MB/s eta 0:00:01\r\u001b[K     |██████████████████▍             | 839kB 9.5MB/s eta 0:00:01\r\u001b[K     |██████████████████▋             | 849kB 9.5MB/s eta 0:00:01\r\u001b[K     |██████████████████▉             | 860kB 9.5MB/s eta 0:00:01\r\u001b[K     |███████████████████             | 870kB 9.5MB/s eta 0:00:01\r\u001b[K     |███████████████████▎            | 880kB 9.5MB/s eta 0:00:01\r\u001b[K     |███████████████████▌            | 890kB 9.5MB/s eta 0:00:01\r\u001b[K     |███████████████████▊            | 901kB 9.5MB/s eta 0:00:01\r\u001b[K     |████████████████████            | 911kB 9.5MB/s eta 0:00:01\r\u001b[K     |████████████████████▏           | 921kB 9.5MB/s eta 0:00:01\r\u001b[K     |████████████████████▍           | 931kB 9.5MB/s eta 0:00:01\r\u001b[K     |████████████████████▋           | 942kB 9.5MB/s eta 0:00:01\r\u001b[K     |████████████████████▉           | 952kB 9.5MB/s eta 0:00:01\r\u001b[K     |█████████████████████▏          | 962kB 9.5MB/s eta 0:00:01\r\u001b[K     |█████████████████████▍          | 972kB 9.5MB/s eta 0:00:01\r\u001b[K     |█████████████████████▋          | 983kB 9.5MB/s eta 0:00:01\r\u001b[K     |█████████████████████▉          | 993kB 9.5MB/s eta 0:00:01\r\u001b[K     |██████████████████████          | 1.0MB 9.5MB/s eta 0:00:01\r\u001b[K     |██████████████████████▎         | 1.0MB 9.5MB/s eta 0:00:01\r\u001b[K     |██████████████████████▌         | 1.0MB 9.5MB/s eta 0:00:01\r\u001b[K     |██████████████████████▊         | 1.0MB 9.5MB/s eta 0:00:01\r\u001b[K     |███████████████████████         | 1.0MB 9.5MB/s eta 0:00:01\r\u001b[K     |███████████████████████▏        | 1.1MB 9.5MB/s eta 0:00:01\r\u001b[K     |███████████████████████▍        | 1.1MB 9.5MB/s eta 0:00:01\r\u001b[K     |███████████████████████▋        | 1.1MB 9.5MB/s eta 0:00:01\r\u001b[K     |███████████████████████▉        | 1.1MB 9.5MB/s eta 0:00:01\r\u001b[K     |████████████████████████        | 1.1MB 9.5MB/s eta 0:00:01\r\u001b[K     |████████████████████████▎       | 1.1MB 9.5MB/s eta 0:00:01\r\u001b[K     |████████████████████████▌       | 1.1MB 9.5MB/s eta 0:00:01\r\u001b[K     |████████████████████████▊       | 1.1MB 9.5MB/s eta 0:00:01\r\u001b[K     |█████████████████████████       | 1.1MB 9.5MB/s eta 0:00:01\r\u001b[K     |█████████████████████████▏      | 1.1MB 9.5MB/s eta 0:00:01\r\u001b[K     |█████████████████████████▍      | 1.2MB 9.5MB/s eta 0:00:01\r\u001b[K     |█████████████████████████▋      | 1.2MB 9.5MB/s eta 0:00:01\r\u001b[K     |█████████████████████████▉      | 1.2MB 9.5MB/s eta 0:00:01\r\u001b[K     |██████████████████████████      | 1.2MB 9.5MB/s eta 0:00:01\r\u001b[K     |██████████████████████████▎     | 1.2MB 9.5MB/s eta 0:00:01\r\u001b[K     |██████████████████████████▌     | 1.2MB 9.5MB/s eta 0:00:01\r\u001b[K     |██████████████████████████▊     | 1.2MB 9.5MB/s eta 0:00:01\r\u001b[K     |███████████████████████████     | 1.2MB 9.5MB/s eta 0:00:01\r\u001b[K     |███████████████████████████▏    | 1.2MB 9.5MB/s eta 0:00:01\r\u001b[K     |███████████████████████████▍    | 1.2MB 9.5MB/s eta 0:00:01\r\u001b[K     |███████████████████████████▋    | 1.3MB 9.5MB/s eta 0:00:01\r\u001b[K     |███████████████████████████▉    | 1.3MB 9.5MB/s eta 0:00:01\r\u001b[K     |████████████████████████████    | 1.3MB 9.5MB/s eta 0:00:01\r\u001b[K     |████████████████████████████▎   | 1.3MB 9.5MB/s eta 0:00:01\r\u001b[K     |████████████████████████████▌   | 1.3MB 9.5MB/s eta 0:00:01\r\u001b[K     |████████████████████████████▊   | 1.3MB 9.5MB/s eta 0:00:01\r\u001b[K     |█████████████████████████████   | 1.3MB 9.5MB/s eta 0:00:01\r\u001b[K     |█████████████████████████████▏  | 1.3MB 9.5MB/s eta 0:00:01\r\u001b[K     |█████████████████████████████▍  | 1.3MB 9.5MB/s eta 0:00:01\r\u001b[K     |█████████████████████████████▋  | 1.4MB 9.5MB/s eta 0:00:01\r\u001b[K     |█████████████████████████████▉  | 1.4MB 9.5MB/s eta 0:00:01\r\u001b[K     |██████████████████████████████  | 1.4MB 9.5MB/s eta 0:00:01\r\u001b[K     |██████████████████████████████▎ | 1.4MB 9.5MB/s eta 0:00:01\r\u001b[K     |██████████████████████████████▌ | 1.4MB 9.5MB/s eta 0:00:01\r\u001b[K     |██████████████████████████████▊ | 1.4MB 9.5MB/s eta 0:00:01\r\u001b[K     |███████████████████████████████ | 1.4MB 9.5MB/s eta 0:00:01\r\u001b[K     |███████████████████████████████▏| 1.4MB 9.5MB/s eta 0:00:01\r\u001b[K     |███████████████████████████████▍| 1.4MB 9.5MB/s eta 0:00:01\r\u001b[K     |███████████████████████████████▊| 1.4MB 9.5MB/s eta 0:00:01\r\u001b[K     |████████████████████████████████| 1.5MB 9.5MB/s eta 0:00:01\r\u001b[K     |████████████████████████████████| 1.5MB 9.5MB/s \n",
            "\u001b[?25hRequirement already satisfied, skipping upgrade: numpy>=1.7 in /usr/local/lib/python3.6/dist-packages (from bcolz) (1.17.3)\n",
            "Building wheels for collected packages: bcolz\n",
            "  Building wheel for bcolz (setup.py) ... \u001b[?25l\u001b[?25hdone\n",
            "  Created wheel for bcolz: filename=bcolz-1.2.1-cp36-cp36m-linux_x86_64.whl size=2655741 sha256=ecfd0e5f82495962f66f259b4fcae0ebbfdb710704d5dfcc5db8b2edcb50991f\n",
            "  Stored in directory: /root/.cache/pip/wheels/9f/78/26/fb8c0acb91a100dc8914bf236c4eaa4b207cb876893c40b745\n",
            "Successfully built bcolz\n",
            "Installing collected packages: bcolz\n",
            "Successfully installed bcolz-1.2.1\n"
          ],
          "name": "stdout"
        }
      ]
    },
    {
      "cell_type": "markdown",
      "metadata": {
        "id": "AwNknkwSj2Kd",
        "colab_type": "text"
      },
      "source": [
        "## Imports"
      ]
    },
    {
      "cell_type": "code",
      "metadata": {
        "id": "ZP7oCBkChlBl",
        "colab_type": "code",
        "colab": {}
      },
      "source": [
        "from PIL import Image\n",
        "import numpy as np\n",
        "import matplotlib.pyplot as plt\n",
        "import os\n",
        "import torch\n",
        "import torch.nn as nn\n",
        "import torchvision\n",
        "from torchvision import models,transforms,datasets\n",
        "import bcolz\n",
        "import time\n",
        "%matplotlib inline"
      ],
      "execution_count": 0,
      "outputs": []
    },
    {
      "cell_type": "markdown",
      "metadata": {
        "id": "-ZpbGWrWlfcT",
        "colab_type": "text"
      },
      "source": [
        "## Import Data"
      ]
    },
    {
      "cell_type": "code",
      "metadata": {
        "id": "irz3XZuylPCJ",
        "colab_type": "code",
        "outputId": "b63af23f-2a09-430b-9d65-9a5b623f87bb",
        "colab": {
          "base_uri": "https://localhost:8080/",
          "height": 34
        }
      },
      "source": [
        "link = 'https://drive.google.com/open?id=1py-LmKhQuqwHFvEoSHIH44S60He4IYox'\n",
        "fluff, id = link.split('=')\n",
        "print(id) # Verify that you have everything after '='"
      ],
      "execution_count": 4,
      "outputs": [
        {
          "output_type": "stream",
          "text": [
            "1py-LmKhQuqwHFvEoSHIH44S60He4IYox\n"
          ],
          "name": "stdout"
        }
      ]
    },
    {
      "cell_type": "code",
      "metadata": {
        "id": "hkFJbIiilPAI",
        "colab_type": "code",
        "colab": {}
      },
      "source": [
        "downloaded = drive.CreateFile({'id':id}) \n",
        "downloaded.GetContentFile('X_sample.rar')  "
      ],
      "execution_count": 0,
      "outputs": []
    },
    {
      "cell_type": "code",
      "metadata": {
        "id": "Rndrd8SjoN7n",
        "colab_type": "code",
        "colab": {
          "base_uri": "https://localhost:8080/",
          "height": 119
        },
        "outputId": "8a1d66dc-9b32-4adb-cbdd-62e7ac689186"
      },
      "source": [
        ""
      ],
      "execution_count": 18,
      "outputs": [
        {
          "output_type": "stream",
          "text": [
            "\n",
            "UNRAR 5.50 freeware      Copyright (c) 1993-2017 Alexander Roshal\n",
            "\n",
            "Cannot open X_sample.rar\n",
            "No such file or directory\n",
            "No files to extract\n"
          ],
          "name": "stdout"
        }
      ]
    },
    {
      "cell_type": "code",
      "metadata": {
        "id": "9bSH3Prgos7M",
        "colab_type": "code",
        "colab": {
          "base_uri": "https://localhost:8080/",
          "height": 34
        },
        "outputId": "5032ae36-ca54-4572-af5d-575282611f36"
      },
      "source": [
        "!ls"
      ],
      "execution_count": 12,
      "outputs": [
        {
          "output_type": "stream",
          "text": [
            "adc.json  data\tsample_data  X_sample.rar\n"
          ],
          "name": "stdout"
        }
      ]
    },
    {
      "cell_type": "code",
      "metadata": {
        "id": "6sMUetoVlO-b",
        "colab_type": "code",
        "colab": {
          "base_uri": "https://localhost:8080/",
          "height": 34
        },
        "outputId": "6177a567-35e5-4a18-8abf-ebbf526637c5"
      },
      "source": [
        "%cd data"
      ],
      "execution_count": 13,
      "outputs": [
        {
          "output_type": "stream",
          "text": [
            "/content/data\n"
          ],
          "name": "stdout"
        }
      ]
    },
    {
      "cell_type": "code",
      "metadata": {
        "id": "mQrhe_1NlO83",
        "colab_type": "code",
        "colab": {}
      },
      "source": [
        "!ls"
      ],
      "execution_count": 0,
      "outputs": []
    },
    {
      "cell_type": "code",
      "metadata": {
        "id": "EY1pAO5xlO5h",
        "colab_type": "code",
        "colab": {}
      },
      "source": [
        ""
      ],
      "execution_count": 0,
      "outputs": []
    },
    {
      "cell_type": "code",
      "metadata": {
        "id": "gH6RdxcDhorh",
        "colab_type": "code",
        "colab": {}
      },
      "source": [
        ""
      ],
      "execution_count": 0,
      "outputs": []
    }
  ]
}